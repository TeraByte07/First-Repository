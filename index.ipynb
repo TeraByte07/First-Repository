{
 "cells": [
  {
   "cell_type": "markdown",
   "source": [
    "# My Python"
   ],
   "metadata": {}
  },
  {
   "cell_type": "code",
   "execution_count": 5,
   "source": [
    "print('hello world')"
   ],
   "outputs": [
    {
     "output_type": "stream",
     "name": "stdout",
     "text": [
      "hello world\n"
     ]
    }
   ],
   "metadata": {}
  },
  {
   "cell_type": "code",
   "execution_count": 6,
   "source": [
    "print(1)"
   ],
   "outputs": [
    {
     "output_type": "stream",
     "name": "stdout",
     "text": [
      "1\n"
     ]
    }
   ],
   "metadata": {}
  },
  {
   "cell_type": "markdown",
   "source": [
    "# DATA TYPES"
   ],
   "metadata": {}
  },
  {
   "cell_type": "code",
   "execution_count": 7,
   "source": [
    "w = \"abcd\"\r\n",
    "x = 123\r\n",
    "y = \"12a\"\r\n",
    "z = True"
   ],
   "outputs": [],
   "metadata": {}
  },
  {
   "cell_type": "code",
   "execution_count": 8,
   "source": [
    "print(w,x,y,z)"
   ],
   "outputs": [
    {
     "output_type": "stream",
     "name": "stdout",
     "text": [
      "abcd 123 12a True\n"
     ]
    }
   ],
   "metadata": {}
  },
  {
   "cell_type": "code",
   "execution_count": 13,
   "source": [
    "print(type(w))\r\n",
    "print(type(x))\r\n",
    "print(type(y))\r\n",
    "print(type(z))"
   ],
   "outputs": [
    {
     "output_type": "stream",
     "name": "stdout",
     "text": [
      "<class 'str'>\n",
      "<class 'int'>\n",
      "<class 'str'>\n",
      "<class 'bool'>\n"
     ]
    }
   ],
   "metadata": {}
  },
  {
   "cell_type": "code",
   "execution_count": 14,
   "source": [
    "greetings = \"Happy Jumuah\"\r\n",
    "print(len(greetings))"
   ],
   "outputs": [
    {
     "output_type": "stream",
     "name": "stdout",
     "text": [
      "12\n"
     ]
    }
   ],
   "metadata": {}
  },
  {
   "cell_type": "code",
   "execution_count": 25,
   "source": [
    "print(greetings[0:5])\r\n",
    "print(greetings[2:5])\r\n",
    "print(greetings[-5:-1])"
   ],
   "outputs": [
    {
     "output_type": "stream",
     "name": "stdout",
     "text": [
      "Happy\n",
      "ppy\n",
      "umua\n"
     ]
    }
   ],
   "metadata": {}
  },
  {
   "cell_type": "code",
   "execution_count": 3,
   "source": [
    "surname = \"Bakare\"\r\n",
    "name = \"Musa\"\r\n",
    "print(\"my name is {one} and surname is {two}\".format(one=name,two=surname))"
   ],
   "outputs": [
    {
     "output_type": "stream",
     "name": "stdout",
     "text": [
      "my name is Musa and surname is Bakare\n"
     ]
    }
   ],
   "metadata": {}
  },
  {
   "cell_type": "code",
   "execution_count": 4,
   "source": [
    "print(\"my name is \" +surname+ \" \" +name)"
   ],
   "outputs": [
    {
     "output_type": "stream",
     "name": "stdout",
     "text": [
      "my name is Bakare Musa\n"
     ]
    }
   ],
   "metadata": {}
  },
  {
   "cell_type": "code",
   "execution_count": 9,
   "source": [
    "age = 22\r\n",
    "txt = \"my name is \" +surname+ \" \" +name+ \" \" \"and i am {one} years old\"\r\n",
    "print(txt.format(one=age))"
   ],
   "outputs": [
    {
     "output_type": "stream",
     "name": "stdout",
     "text": [
      "my name is Bakare Musa and i am 22 years old\n"
     ]
    }
   ],
   "metadata": {}
  },
  {
   "cell_type": "markdown",
   "source": [
    "# OPERATORS"
   ],
   "metadata": {}
  },
  {
   "cell_type": "markdown",
   "source": [
    "## ARITHMETIC OPERATORS"
   ],
   "metadata": {}
  },
  {
   "cell_type": "code",
   "execution_count": 2,
   "source": [
    "1+1"
   ],
   "outputs": [
    {
     "output_type": "execute_result",
     "data": {
      "text/plain": [
       "2"
      ]
     },
     "metadata": {},
     "execution_count": 2
    }
   ],
   "metadata": {}
  },
  {
   "cell_type": "code",
   "execution_count": 3,
   "source": [
    "2-1"
   ],
   "outputs": [
    {
     "output_type": "execute_result",
     "data": {
      "text/plain": [
       "1"
      ]
     },
     "metadata": {},
     "execution_count": 3
    }
   ],
   "metadata": {}
  },
  {
   "cell_type": "code",
   "execution_count": 4,
   "source": [
    "10/5"
   ],
   "outputs": [
    {
     "output_type": "execute_result",
     "data": {
      "text/plain": [
       "2.0"
      ]
     },
     "metadata": {},
     "execution_count": 4
    }
   ],
   "metadata": {}
  },
  {
   "cell_type": "code",
   "execution_count": 5,
   "source": [
    "10*8"
   ],
   "outputs": [
    {
     "output_type": "execute_result",
     "data": {
      "text/plain": [
       "80"
      ]
     },
     "metadata": {},
     "execution_count": 5
    }
   ],
   "metadata": {}
  },
  {
   "cell_type": "code",
   "execution_count": 6,
   "source": [
    "100%3"
   ],
   "outputs": [
    {
     "output_type": "execute_result",
     "data": {
      "text/plain": [
       "1"
      ]
     },
     "metadata": {},
     "execution_count": 6
    }
   ],
   "metadata": {}
  },
  {
   "cell_type": "code",
   "execution_count": 7,
   "source": [
    "10**2"
   ],
   "outputs": [
    {
     "output_type": "execute_result",
     "data": {
      "text/plain": [
       "100"
      ]
     },
     "metadata": {},
     "execution_count": 7
    }
   ],
   "metadata": {}
  },
  {
   "cell_type": "code",
   "execution_count": 31,
   "source": [
    "w = 10\r\n",
    "x= 20\r\n",
    "y = (w-x) * (w+x)"
   ],
   "outputs": [],
   "metadata": {}
  },
  {
   "cell_type": "code",
   "execution_count": 25,
   "source": [
    "print(y)"
   ],
   "outputs": [
    {
     "output_type": "stream",
     "name": "stdout",
     "text": [
      "-300\n"
     ]
    }
   ],
   "metadata": {}
  },
  {
   "cell_type": "code",
   "execution_count": 26,
   "source": [
    "w += 10\r\n",
    "print(w)"
   ],
   "outputs": [
    {
     "output_type": "stream",
     "name": "stdout",
     "text": [
      "20\n"
     ]
    }
   ],
   "metadata": {}
  },
  {
   "cell_type": "code",
   "execution_count": 28,
   "source": [
    "w -= 10\r\n",
    "print(w)"
   ],
   "outputs": [
    {
     "output_type": "stream",
     "name": "stdout",
     "text": [
      "0\n"
     ]
    }
   ],
   "metadata": {}
  },
  {
   "cell_type": "code",
   "execution_count": 32,
   "source": [
    "w *= 10\r\n",
    "print(w)"
   ],
   "outputs": [
    {
     "output_type": "stream",
     "name": "stdout",
     "text": [
      "100\n"
     ]
    }
   ],
   "metadata": {}
  },
  {
   "cell_type": "markdown",
   "source": [
    "## COMPARISON OPERATORS"
   ],
   "metadata": {}
  },
  {
   "cell_type": "code",
   "execution_count": 13,
   "source": [
    "1==1"
   ],
   "outputs": [
    {
     "output_type": "execute_result",
     "data": {
      "text/plain": [
       "True"
      ]
     },
     "metadata": {},
     "execution_count": 13
    }
   ],
   "metadata": {}
  },
  {
   "cell_type": "code",
   "execution_count": 14,
   "source": [
    "1<2"
   ],
   "outputs": [
    {
     "output_type": "execute_result",
     "data": {
      "text/plain": [
       "True"
      ]
     },
     "metadata": {},
     "execution_count": 14
    }
   ],
   "metadata": {}
  },
  {
   "cell_type": "code",
   "execution_count": 15,
   "source": [
    "3>1"
   ],
   "outputs": [
    {
     "output_type": "execute_result",
     "data": {
      "text/plain": [
       "True"
      ]
     },
     "metadata": {},
     "execution_count": 15
    }
   ],
   "metadata": {}
  },
  {
   "cell_type": "code",
   "execution_count": 16,
   "source": [
    "0 == 2"
   ],
   "outputs": [
    {
     "output_type": "execute_result",
     "data": {
      "text/plain": [
       "False"
      ]
     },
     "metadata": {},
     "execution_count": 16
    }
   ],
   "metadata": {}
  },
  {
   "cell_type": "code",
   "execution_count": 17,
   "source": [
    "2 < 1"
   ],
   "outputs": [
    {
     "output_type": "execute_result",
     "data": {
      "text/plain": [
       "False"
      ]
     },
     "metadata": {},
     "execution_count": 17
    }
   ],
   "metadata": {}
  },
  {
   "cell_type": "code",
   "execution_count": 18,
   "source": [
    "3 > 10"
   ],
   "outputs": [
    {
     "output_type": "execute_result",
     "data": {
      "text/plain": [
       "False"
      ]
     },
     "metadata": {},
     "execution_count": 18
    }
   ],
   "metadata": {}
  },
  {
   "cell_type": "markdown",
   "source": [
    "## LOGICAL OPERATORS"
   ],
   "metadata": {}
  },
  {
   "cell_type": "code",
   "execution_count": 36,
   "source": [
    " a = 8\r\n",
    " a < 5 and a > 10"
   ],
   "outputs": [
    {
     "output_type": "execute_result",
     "data": {
      "text/plain": [
       "False"
      ]
     },
     "metadata": {},
     "execution_count": 36
    }
   ],
   "metadata": {}
  },
  {
   "cell_type": "code",
   "execution_count": 37,
   "source": [
    "b = 10\r\n",
    "b < 5 or b > 8 "
   ],
   "outputs": [
    {
     "output_type": "execute_result",
     "data": {
      "text/plain": [
       "True"
      ]
     },
     "metadata": {},
     "execution_count": 37
    }
   ],
   "metadata": {}
  },
  {
   "cell_type": "code",
   "execution_count": 38,
   "source": [
    "not(b < 5 and b > 20)"
   ],
   "outputs": [
    {
     "output_type": "execute_result",
     "data": {
      "text/plain": [
       "True"
      ]
     },
     "metadata": {},
     "execution_count": 38
    }
   ],
   "metadata": {}
  },
  {
   "cell_type": "markdown",
   "source": [
    "## IDENTITY OPERATORS"
   ],
   "metadata": {}
  },
  {
   "cell_type": "code",
   "execution_count": 41,
   "source": [
    "a is b"
   ],
   "outputs": [
    {
     "output_type": "execute_result",
     "data": {
      "text/plain": [
       "False"
      ]
     },
     "metadata": {},
     "execution_count": 41
    }
   ],
   "metadata": {}
  },
  {
   "cell_type": "code",
   "execution_count": 42,
   "source": [
    "a is not b"
   ],
   "outputs": [
    {
     "output_type": "execute_result",
     "data": {
      "text/plain": [
       "True"
      ]
     },
     "metadata": {},
     "execution_count": 42
    }
   ],
   "metadata": {}
  },
  {
   "cell_type": "markdown",
   "source": [
    "# LISTS"
   ],
   "metadata": {}
  },
  {
   "cell_type": "code",
   "execution_count": 46,
   "source": [
    "list = ['apple','banana','cherry','cherry']\r\n",
    "print(list)\r\n",
    "print(len(list))"
   ],
   "outputs": [
    {
     "output_type": "stream",
     "name": "stdout",
     "text": [
      "['apple', 'banana', 'cherry', 'cherry']\n",
      "4\n"
     ]
    }
   ],
   "metadata": {}
  },
  {
   "cell_type": "code",
   "execution_count": 13,
   "source": [
    "x = \"Togo\"\r\n",
    "list1 = ['Nigeria','Congo','Ghana',x]\r\n",
    "list2 = [1,2,3,4,5]\r\n",
    "list3 = [True,True,False,False]\r\n",
    "print(list1)\r\n",
    "print(list2)\r\n",
    "print(list3)"
   ],
   "outputs": [
    {
     "output_type": "stream",
     "name": "stdout",
     "text": [
      "['Nigeria', 'Congo', 'Ghana', 'Togo']\n",
      "[1, 2, 3, 4, 5]\n",
      "[True, True, False, False]\n"
     ]
    }
   ],
   "metadata": {}
  },
  {
   "cell_type": "code",
   "execution_count": 14,
   "source": [
    "thisList = [\"apple\",123,True,2j]\r\n",
    "print(thisList)"
   ],
   "outputs": [
    {
     "output_type": "stream",
     "name": "stdout",
     "text": [
      "['apple', 123, True, 2j]\n"
     ]
    }
   ],
   "metadata": {}
  },
  {
   "cell_type": "code",
   "execution_count": 15,
   "source": [
    "print(type(list2))"
   ],
   "outputs": [
    {
     "output_type": "stream",
     "name": "stdout",
     "text": [
      "<class 'list'>\n"
     ]
    }
   ],
   "metadata": {}
  },
  {
   "cell_type": "code",
   "execution_count": 16,
   "source": [
    " list1.append('Burkina Faso')\r\n",
    " list2.remove(1)\r\n",
    " list3.clear()"
   ],
   "outputs": [],
   "metadata": {}
  },
  {
   "cell_type": "code",
   "execution_count": 17,
   "source": [
    "print(list1)\r\n",
    "print(list2)\r\n",
    "print(list3)"
   ],
   "outputs": [
    {
     "output_type": "stream",
     "name": "stdout",
     "text": [
      "['Nigeria', 'Congo', 'Ghana', 'Togo', 'Burkina Faso']\n",
      "[2, 3, 4, 5]\n",
      "[]\n"
     ]
    }
   ],
   "metadata": {}
  },
  {
   "cell_type": "code",
   "execution_count": 43,
   "source": [
    "europe = ['France','Portugal','Germany','England','Italy']\r\n",
    "europe2 = []\r\n",
    "\r\n",
    "for item in europe:\r\n",
    "    if 'a' in item:\r\n",
    "        europe2.append(item)\r\n",
    "\r\n",
    "print(europe2)"
   ],
   "outputs": [
    {
     "output_type": "stream",
     "name": "stdout",
     "text": [
      "['France', 'Portugal', 'Germany', 'England', 'Italy']\n"
     ]
    }
   ],
   "metadata": {}
  },
  {
   "cell_type": "code",
   "execution_count": 44,
   "source": [
    "names = ['sandra','samad','musa','ola','sulaimon']\r\n",
    "\r\n",
    "name =[]\r\n",
    "\r\n",
    "for item in names:\r\n",
    "    if item.startswith('m'):\r\n",
    "        name.append(item)\r\n",
    "        \r\n",
    "print(name)"
   ],
   "outputs": [
    {
     "output_type": "stream",
     "name": "stdout",
     "text": [
      "['musa']\n"
     ]
    }
   ],
   "metadata": {}
  },
  {
   "cell_type": "code",
   "execution_count": 51,
   "source": [
    "america = ['argentina','brazil','honduras','panama','USA']\r\n",
    "for x in america:\r\n",
    "    print(x[::-1])"
   ],
   "outputs": [
    {
     "output_type": "stream",
     "name": "stdout",
     "text": [
      "anitnegra\n",
      "lizarb\n",
      "sarudnoh\n",
      "amanap\n",
      "ASU\n"
     ]
    }
   ],
   "metadata": {}
  },
  {
   "cell_type": "code",
   "execution_count": 54,
   "source": [
    "america = ['argentina','brazil','honduras','panama','USA']\r\n",
    "[print (x) for x in america[::-1]]"
   ],
   "outputs": [
    {
     "output_type": "stream",
     "name": "stdout",
     "text": [
      "USA\n",
      "panama\n",
      "honduras\n",
      "brazil\n",
      "argentina\n"
     ]
    },
    {
     "output_type": "execute_result",
     "data": {
      "text/plain": [
       "[None, None, None, None, None]"
      ]
     },
     "metadata": {},
     "execution_count": 54
    }
   ],
   "metadata": {}
  },
  {
   "cell_type": "code",
   "execution_count": 1,
   "source": [
    "bakare = ['jibola','olumide','olayiwola']\r\n",
    "bakare2 = []\r\n",
    "\r\n",
    "for x in bakare:\r\n",
    "    if x.startswith('o'):\r\n",
    "        bakare2.append(x)\r\n",
    "\r\n",
    "print(bakare2)"
   ],
   "outputs": [
    {
     "output_type": "stream",
     "name": "stdout",
     "text": [
      "['olumide', 'olayiwola']\n"
     ]
    }
   ],
   "metadata": {}
  },
  {
   "cell_type": "code",
   "execution_count": 2,
   "source": [
    "[print(x) for x in bakare[::-1]]"
   ],
   "outputs": [
    {
     "output_type": "stream",
     "name": "stdout",
     "text": [
      "olayiwola\n",
      "olumide\n",
      "jibola\n"
     ]
    },
    {
     "output_type": "execute_result",
     "data": {
      "text/plain": [
       "[None, None, None]"
      ]
     },
     "metadata": {},
     "execution_count": 2
    }
   ],
   "metadata": {}
  },
  {
   "cell_type": "markdown",
   "source": [
    "# FUNCTION"
   ],
   "metadata": {}
  },
  {
   "cell_type": "code",
   "execution_count": 1,
   "source": [
    "def func():\r\n",
    "    print('this is a function')\r\n",
    "\r\n",
    "func()"
   ],
   "outputs": [
    {
     "output_type": "stream",
     "name": "stdout",
     "text": [
      "this is a function\n"
     ]
    }
   ],
   "metadata": {}
  },
  {
   "cell_type": "code",
   "execution_count": 4,
   "source": [
    "#passing arguments into a function parentheses\r\n",
    "def func(name):\r\n",
    "    print(name + \" \" \"Bakare\")\r\n",
    "\r\n",
    "func(\"olayiwola\")\r\n",
    "func(\"olumide\")\r\n",
    "func(\"jibola\")"
   ],
   "outputs": [
    {
     "output_type": "stream",
     "name": "stdout",
     "text": [
      "olayiwola Bakare\n",
      "olumide Bakare\n",
      "jibola Bakare\n"
     ]
    }
   ],
   "metadata": {}
  },
  {
   "cell_type": "code",
   "execution_count": 7,
   "source": [
    "def myFunc(country , state):\r\n",
    "    print(country + \" \" +state)\r\n",
    "myFunc(\"Nigeria\",\"Lagos\")"
   ],
   "outputs": [
    {
     "output_type": "stream",
     "name": "stdout",
     "text": [
      "Nigeria Lagos\n"
     ]
    }
   ],
   "metadata": {}
  },
  {
   "cell_type": "code",
   "execution_count": 10,
   "source": [
    "def function(*schools):\r\n",
    "    print(\"the best school is \" + schools[2])\r\n",
    "\r\n",
    "function(\"UNILAG\",\"UNILORIN\",\"LASU\")"
   ],
   "outputs": [
    {
     "output_type": "stream",
     "name": "stdout",
     "text": [
      "the best school is LASU\n"
     ]
    }
   ],
   "metadata": {}
  },
  {
   "cell_type": "code",
   "execution_count": 11,
   "source": [
    "def my_function(country = \"Norway\"):\r\n",
    "  print(\"I am from \" + country)\r\n",
    "\r\n",
    "my_function(\"Sweden\")\r\n",
    "my_function(\"India\")\r\n",
    "my_function()\r\n",
    "my_function(\"Brazil\")"
   ],
   "outputs": [
    {
     "output_type": "stream",
     "name": "stdout",
     "text": [
      "I am from Sweden\n",
      "I am from India\n",
      "I am from Norway\n",
      "I am from Brazil\n"
     ]
    }
   ],
   "metadata": {}
  },
  {
   "cell_type": "code",
   "execution_count": 19,
   "source": [
    "def my_func(food):\r\n",
    "    for x in food:\r\n",
    "        print(x)\r\n",
    "\r\n",
    "foods = [\"rice\",\"beans\",\"spaghetti\"]\r\n",
    "\r\n",
    "my_func(foods)"
   ],
   "outputs": [
    {
     "output_type": "stream",
     "name": "stdout",
     "text": [
      "rice\n",
      "beans\n",
      "spaghetti\n"
     ]
    }
   ],
   "metadata": {}
  },
  {
   "cell_type": "code",
   "execution_count": 22,
   "source": [
    "def multi(x):\r\n",
    "    return 10 * x\r\n",
    "\r\n",
    "print(multi(6))\r\n",
    "print(multi(30))"
   ],
   "outputs": [
    {
     "output_type": "stream",
     "name": "stdout",
     "text": [
      "60\n",
      "300\n"
     ]
    }
   ],
   "metadata": {}
  },
  {
   "cell_type": "code",
   "execution_count": 35,
   "source": [
    "def tri_recursion(x):\r\n",
    "    if(x > 3):\r\n",
    "        result = x + tri_recursion(x - 1)\r\n",
    "        print(result)\r\n",
    "    else:\r\n",
    "        result = 0\r\n",
    "    return result\r\n",
    "\r\n",
    "print(\"Results\")\r\n",
    "tri_recursion(10)"
   ],
   "outputs": [
    {
     "output_type": "stream",
     "name": "stdout",
     "text": [
      "Results\n",
      "4\n",
      "9\n",
      "15\n",
      "22\n",
      "30\n",
      "39\n",
      "49\n"
     ]
    },
    {
     "output_type": "execute_result",
     "data": {
      "text/plain": [
       "49"
      ]
     },
     "metadata": {},
     "execution_count": 35
    }
   ],
   "metadata": {}
  },
  {
   "cell_type": "code",
   "execution_count": 6,
   "source": [
    "def tri_recursion(k):\r\n",
    "    if (k > 1):\r\n",
    "        result = k + tri_recursion(k-1)\r\n",
    "        print(result)\r\n",
    "\r\n",
    "    else:\r\n",
    "        result = 0\r\n",
    "    return result\r\n",
    "\r\n",
    "print(\"RESULTS\")\r\n",
    "tri_recursion(5)"
   ],
   "outputs": [
    {
     "output_type": "stream",
     "name": "stdout",
     "text": [
      "RESULTS\n",
      "2\n",
      "5\n",
      "9\n",
      "14\n"
     ]
    },
    {
     "output_type": "execute_result",
     "data": {
      "text/plain": [
       "14"
      ]
     },
     "metadata": {},
     "execution_count": 6
    }
   ],
   "metadata": {}
  },
  {
   "cell_type": "markdown",
   "source": [
    "# LAMBDA"
   ],
   "metadata": {}
  },
  {
   "cell_type": "code",
   "execution_count": 37,
   "source": [
    "x = lambda a : a + 10\r\n",
    "print(x(5))"
   ],
   "outputs": [
    {
     "output_type": "stream",
     "name": "stdout",
     "text": [
      "15\n"
     ]
    }
   ],
   "metadata": {}
  },
  {
   "cell_type": "code",
   "execution_count": 46,
   "source": [
    "x = lambda a,b : a/b\r\n",
    "print(x(200,50))"
   ],
   "outputs": [
    {
     "output_type": "stream",
     "name": "stdout",
     "text": [
      "4.0\n"
     ]
    }
   ],
   "metadata": {}
  },
  {
   "cell_type": "code",
   "execution_count": 45,
   "source": [
    "x = lambda a,b,c : a/b*c\r\n",
    "print(x(200,50,40))"
   ],
   "outputs": [
    {
     "output_type": "stream",
     "name": "stdout",
     "text": [
      "160.0\n"
     ]
    }
   ],
   "metadata": {}
  },
  {
   "cell_type": "code",
   "execution_count": 48,
   "source": [
    "def func(b):\r\n",
    "    return lambda a:a*b\r\n",
    "\r\n",
    "myfunc = func(2)\r\n",
    "\r\n",
    "print(myfunc(11))"
   ],
   "outputs": [
    {
     "output_type": "stream",
     "name": "stdout",
     "text": [
      "22\n"
     ]
    }
   ],
   "metadata": {}
  },
  {
   "cell_type": "code",
   "execution_count": 51,
   "source": [
    "def func(p):\r\n",
    "    return lambda g : g + p\r\n",
    "\r\n",
    "myFunc = func(10)\r\n",
    "\r\n",
    "print(myFunc(15))"
   ],
   "outputs": [
    {
     "output_type": "stream",
     "name": "stdout",
     "text": [
      "25\n"
     ]
    }
   ],
   "metadata": {}
  },
  {
   "cell_type": "code",
   "execution_count": 2,
   "source": [
    "def mult(x):\r\n",
    "    return lambda a: a * x\r\n",
    "\r\n",
    "myMulti = mult(10)\r\n",
    "print(myMulti(20))"
   ],
   "outputs": [
    {
     "output_type": "stream",
     "name": "stdout",
     "text": [
      "200\n"
     ]
    }
   ],
   "metadata": {}
  },
  {
   "cell_type": "markdown",
   "source": [
    "# ARRAYS"
   ],
   "metadata": {}
  },
  {
   "cell_type": "code",
   "execution_count": 58,
   "source": [
    "cars = [\"toyota\",\"benz\",\"ferrari\",\"honda\"]\r\n",
    "print(cars[0])\r\n",
    "print(len(cars))\r\n",
    "print(cars[2:])\r\n",
    "print(cars[-3:])"
   ],
   "outputs": [
    {
     "output_type": "stream",
     "name": "stdout",
     "text": [
      "toyota\n",
      "4\n",
      "['ferrari', 'honda']\n",
      "['benz', 'ferrari', 'honda']\n"
     ]
    }
   ],
   "metadata": {}
  },
  {
   "cell_type": "code",
   "execution_count": 60,
   "source": [
    "for y in cars:\r\n",
    "    print(y)"
   ],
   "outputs": [
    {
     "output_type": "stream",
     "name": "stdout",
     "text": [
      "toyota\n",
      "benz\n",
      "ferrari\n",
      "honda\n"
     ]
    }
   ],
   "metadata": {}
  },
  {
   "cell_type": "code",
   "execution_count": 61,
   "source": [
    "cars.append(\"hyundai\")\r\n",
    "print(cars)"
   ],
   "outputs": [
    {
     "output_type": "stream",
     "name": "stdout",
     "text": [
      "['toyota', 'benz', 'ferrari', 'honda', 'hyundai']\n"
     ]
    }
   ],
   "metadata": {}
  },
  {
   "cell_type": "markdown",
   "source": [
    "# CLASSES/OBJECTS"
   ],
   "metadata": {}
  },
  {
   "cell_type": "code",
   "execution_count": 63,
   "source": [
    "class myClass:\r\n",
    "    x = 10"
   ],
   "outputs": [],
   "metadata": {}
  },
  {
   "cell_type": "code",
   "execution_count": 66,
   "source": [
    "p1 = myClass()\r\n",
    "print(p1.x)"
   ],
   "outputs": [
    {
     "output_type": "stream",
     "name": "stdout",
     "text": [
      "10\n"
     ]
    }
   ],
   "metadata": {}
  },
  {
   "cell_type": "code",
   "execution_count": 71,
   "source": [
    "class MySelf:\r\n",
    "    def __init__(self,name,age):\r\n",
    "        self.name = name\r\n",
    "        self.age = age\r\n",
    "    \r\n",
    "p1 = MySelf(\"Ayomide\",22)\r\n",
    "\r\n",
    "print(p1.name)\r\n",
    "print(p1.age)\r\n",
    "\r\n"
   ],
   "outputs": [
    {
     "output_type": "stream",
     "name": "stdout",
     "text": [
      "Ayomide\n",
      "22\n"
     ]
    }
   ],
   "metadata": {}
  },
  {
   "cell_type": "code",
   "execution_count": 12,
   "source": [
    "class ola:\r\n",
    "    x = \"Bakare\"\r\n",
    "\r\n",
    "p1 = ola()\r\n",
    "print(p1.x)\r\n"
   ],
   "outputs": [
    {
     "output_type": "stream",
     "name": "stdout",
     "text": [
      "Bakare\n"
     ]
    }
   ],
   "metadata": {}
  },
  {
   "cell_type": "code",
   "execution_count": 15,
   "source": [
    "class family:\r\n",
    "    def __init__(self,name,surname):\r\n",
    "        self.name = name\r\n",
    "        self.surname = surname\r\n",
    "\r\n",
    "p1 = family(\"Bakare\",\"Ajibola\")\r\n",
    "print(p1.name)\r\n",
    "print(p1.surname)"
   ],
   "outputs": [
    {
     "output_type": "stream",
     "name": "stdout",
     "text": [
      "Bakare\n",
      "Ajibola\n"
     ]
    }
   ],
   "metadata": {}
  },
  {
   "cell_type": "code",
   "execution_count": 26,
   "source": [
    "class Nigeria:\r\n",
    "    def __init__(self,state,capital):\r\n",
    "        self.state = state\r\n",
    "        self.capital = capital\r\n",
    "\r\n",
    "p1 = Nigeria(\"Lagos\",\"Ikeja\")\r\n",
    "p2 = Nigeria(\"Ogun\",\"Abeokuta\")\r\n",
    "print(p1.state)\r\n",
    "print(p1.capital)\r\n",
    "print(p2.state)\r\n",
    "print(p2.capital)"
   ],
   "outputs": [
    {
     "output_type": "stream",
     "name": "stdout",
     "text": [
      "Lagos\n",
      "Ikeja\n",
      "Ogun\n",
      "Abeokuta\n"
     ]
    }
   ],
   "metadata": {}
  },
  {
   "cell_type": "code",
   "execution_count": 27,
   "source": [
    "class Uni:\r\n",
    "    def __init__(self,name,location):\r\n",
    "        self.name = name\r\n",
    "        self.location = location\r\n",
    "\r\n",
    "    def func(self):\r\n",
    "        print(\"the name of my school is \" + self.name)\r\n",
    "\r\n",
    "p1 = Uni(\"LASU\",\"LAGOS\")\r\n",
    "p1.func()"
   ],
   "outputs": [
    {
     "output_type": "stream",
     "name": "stdout",
     "text": [
      "the name of my school is LASU\n"
     ]
    }
   ],
   "metadata": {}
  },
  {
   "cell_type": "code",
   "execution_count": 28,
   "source": [
    "class city:\r\n",
    "    def __init__(self,name,state):\r\n",
    "        self.name = name\r\n",
    "        self.state = state\r\n",
    "\r\n",
    "p1 = city(\"Agbado\",\"Ogun\")\r\n",
    "print(p1.name)"
   ],
   "outputs": [
    {
     "output_type": "stream",
     "name": "stdout",
     "text": [
      "Agbado\n"
     ]
    }
   ],
   "metadata": {}
  },
  {
   "cell_type": "code",
   "execution_count": 30,
   "source": [
    "class town:\r\n",
    "    def __init__(self,name,situation):\r\n",
    "        self.name = name\r\n",
    "        self.situation = situation\r\n",
    "\r\n",
    "    def function(func):\r\n",
    "        print(\"i live at \" + func.name)\r\n",
    "\r\n",
    "p1 = town(\"Ope-ilu\",\"Agbado\")\r\n",
    "p1.function()"
   ],
   "outputs": [
    {
     "output_type": "stream",
     "name": "stdout",
     "text": [
      "i live at Ope-ilu\n"
     ]
    }
   ],
   "metadata": {}
  },
  {
   "cell_type": "code",
   "execution_count": 41,
   "source": [
    "class town:\r\n",
    "    def __init__(self,name,situation):\r\n",
    "        self.name = name\r\n",
    "        self.situation = situation\r\n",
    "\r\n",
    "    def function(func):\r\n",
    "        print(\"i live at \" + func.name+ \" \" \"at\" + \" \" +func.situation)\r\n",
    "\r\n",
    "p1 = town(\"Ope-ilu\",\"Agbado\")\r\n",
    "p1.name = \"Agege\"\r\n",
    "p1.function()"
   ],
   "outputs": [
    {
     "output_type": "stream",
     "name": "stdout",
     "text": [
      "i live at Agege at Agbado\n"
     ]
    }
   ],
   "metadata": {}
  },
  {
   "cell_type": "markdown",
   "source": [
    "# INHERITANCE"
   ],
   "metadata": {}
  },
  {
   "cell_type": "code",
   "execution_count": 43,
   "source": [
    "class person:\r\n",
    "    def __init__(self,name,lname):\r\n",
    "        self.name = name\r\n",
    "        self.lname = lname\r\n",
    "\r\n",
    "    def func(self):\r\n",
    "        print(self.name,self.lname)\r\n",
    "\r\n",
    "g = person(\"olayiwola\",\"ayomide\")\r\n",
    "g.func()"
   ],
   "outputs": [
    {
     "output_type": "stream",
     "name": "stdout",
     "text": [
      "olayiwola ayomide\n"
     ]
    }
   ],
   "metadata": {}
  },
  {
   "cell_type": "code",
   "execution_count": 44,
   "source": [
    "class student(person):\r\n",
    "    pass\r\n",
    "\r\n",
    "x = student('musa','gbenga')\r\n",
    "x.func()"
   ],
   "outputs": [
    {
     "output_type": "stream",
     "name": "stdout",
     "text": [
      "musa gbenga\n"
     ]
    }
   ],
   "metadata": {}
  },
  {
   "cell_type": "code",
   "execution_count": 49,
   "source": [
    "# using __init__ funcion instead of pass\r\n",
    "class fruits:\r\n",
    "    def __init__(fruit,name,amount):\r\n",
    "        fruit.name = name\r\n",
    "        fruit.amount = amount\r\n",
    "    def func(fruit):\r\n",
    "        print(fruit.name,fruit.amount)\r\n",
    "\r\n",
    "o = fruits(\"apple\",20)\r\n",
    "o.func()\r\n",
    "\r\n",
    "class food(fruits):\r\n",
    "    def __init__(food,name,amount):\r\n",
    "        fruits.__init__(food,name,amount)\r\n",
    "\r\n",
    "x = food(\"amala\",25)\r\n",
    "x.func()"
   ],
   "outputs": [
    {
     "output_type": "stream",
     "name": "stdout",
     "text": [
      "apple 20\n",
      "amala 25\n"
     ]
    }
   ],
   "metadata": {}
  },
  {
   "cell_type": "code",
   "execution_count": 51,
   "source": [
    "# using super() funcion instead of pass\r\n",
    "class fruits:\r\n",
    "    def __init__(fruit,name,amount):\r\n",
    "        fruit.name = name\r\n",
    "        fruit.amount = amount\r\n",
    "    def func(fruit):\r\n",
    "        print(fruit.name,fruit.amount)\r\n",
    "\r\n",
    "o = fruits(\"apple\",20)\r\n",
    "o.func()\r\n",
    "\r\n",
    "class food(fruits):\r\n",
    "    def __init__(food,name,amount):\r\n",
    "        super().__init__(name,amount)\r\n",
    "\r\n",
    "x = food(\"amala\",25)\r\n",
    "x.func()"
   ],
   "outputs": [
    {
     "output_type": "stream",
     "name": "stdout",
     "text": [
      "apple 20\n",
      "amala 25\n"
     ]
    }
   ],
   "metadata": {}
  },
  {
   "cell_type": "code",
   "execution_count": 54,
   "source": [
    "# add properties\r\n",
    "class fruits:\r\n",
    "    def __init__(fruit,name,amount):\r\n",
    "        fruit.name = name\r\n",
    "        fruit.amount = amount\r\n",
    "    def func(fruit):\r\n",
    "        print(fruit.name,fruit.amount)\r\n",
    "\r\n",
    "o = fruits(\"apple\",20)\r\n",
    "o.func()\r\n",
    "\r\n",
    "class food(fruits):\r\n",
    "    def __init__(food,name,amount):\r\n",
    "        super().__init__(name,amount)\r\n",
    "        food.type = \"Nigerian\"\r\n",
    "\r\n",
    "x = food(\"amala\",25)\r\n",
    "x.func()\r\n",
    "x.type"
   ],
   "outputs": [
    {
     "output_type": "stream",
     "name": "stdout",
     "text": [
      "apple 20\n",
      "amala 25\n"
     ]
    },
    {
     "output_type": "execute_result",
     "data": {
      "text/plain": [
       "'Nigerian'"
      ]
     },
     "metadata": {},
     "execution_count": 54
    }
   ],
   "metadata": {}
  },
  {
   "cell_type": "markdown",
   "source": [
    "# PYTHON ITERATORS"
   ],
   "metadata": {}
  },
  {
   "cell_type": "code",
   "execution_count": 55,
   "source": [
    "tuple = (\"banana\",\"cherry\",\"apple\")\r\n",
    "myIt = iter(tuple)\r\n",
    "\r\n",
    "print(next(myIt))\r\n",
    "print(next(myIt))\r\n",
    "print(next(myIt))"
   ],
   "outputs": [
    {
     "output_type": "stream",
     "name": "stdout",
     "text": [
      "banana\n",
      "cherry\n",
      "apple\n"
     ]
    }
   ],
   "metadata": {}
  },
  {
   "cell_type": "code",
   "execution_count": 57,
   "source": [
    "# iteration of strings\r\n",
    "fruit = \"banana\"\r\n",
    "myit = iter(fruit)\r\n",
    "\r\n",
    "print(next(myit))\r\n",
    "print(next(myit))\r\n",
    "print(next(myit))\r\n",
    "print(next(myit))\r\n",
    "print(next(myit))\r\n",
    "print(next(myit))"
   ],
   "outputs": [
    {
     "output_type": "stream",
     "name": "stdout",
     "text": [
      "b\n",
      "a\n",
      "n\n",
      "a\n",
      "n\n",
      "a\n"
     ]
    }
   ],
   "metadata": {}
  },
  {
   "cell_type": "code",
   "execution_count": 58,
   "source": [
    "# using for to iterate\r\n",
    "list = [\"musa\",\"roqeeb\", \"abdullah\"]\r\n",
    "for x in list:\r\n",
    "    print(x)"
   ],
   "outputs": [
    {
     "output_type": "stream",
     "name": "stdout",
     "text": [
      "musa\n",
      "roqeeb\n",
      "abdullah\n"
     ]
    }
   ],
   "metadata": {}
  },
  {
   "cell_type": "code",
   "execution_count": 59,
   "source": [
    "name = \"waliyat\"\r\n",
    "for x in name:\r\n",
    "    print(x)"
   ],
   "outputs": [
    {
     "output_type": "stream",
     "name": "stdout",
     "text": [
      "w\n",
      "a\n",
      "l\n",
      "i\n",
      "y\n",
      "a\n",
      "t\n"
     ]
    }
   ],
   "metadata": {}
  },
  {
   "cell_type": "code",
   "execution_count": null,
   "source": [],
   "outputs": [],
   "metadata": {}
  }
 ],
 "metadata": {
  "kernelspec": {
   "name": "python3",
   "display_name": "Python 3.8.5 64-bit ('base': conda)"
  },
  "language_info": {
   "codemirror_mode": {
    "name": "ipython",
    "version": 3
   },
   "file_extension": ".py",
   "mimetype": "text/x-python",
   "name": "python",
   "nbconvert_exporter": "python",
   "pygments_lexer": "ipython3",
   "version": "3.8.5"
  },
  "interpreter": {
   "hash": "37eb40c3388cfde35488e2d005b0d69ca91ddeff8a429754d4da636d3f888e5e"
  }
 },
 "nbformat": 4,
 "nbformat_minor": 4
}